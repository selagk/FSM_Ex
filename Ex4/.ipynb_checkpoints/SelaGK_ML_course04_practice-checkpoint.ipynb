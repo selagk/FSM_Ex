{
 "cells": [
  {
   "cell_type": "markdown",
   "metadata": {},
   "source": [
    "# Practice 4 - Multiple linear regression"
   ]
  },
  {
   "cell_type": "code",
   "execution_count": 1,
   "metadata": {
    "ExecuteTime": {
     "end_time": "2022-04-12T10:14:58.617746Z",
     "start_time": "2022-04-12T10:14:56.877615Z"
    }
   },
   "outputs": [],
   "source": [
    "import numpy as np\n",
    "import matplotlib.pyplot as plt\n",
    "import pandas as pd\n",
    "import sklearn \n",
    "import seaborn as sns\n",
    "from typing import Optional\n",
    "import math\n",
    "from mpl_toolkits import mplot3d\n",
    "from sklearn.linear_model import LinearRegression, Ridge\n",
    "from sklearn.preprocessing import PolynomialFeatures\n",
    "from sklearn.preprocessing import StandardScaler\n",
    "from sklearn.pipeline import Pipeline\n",
    "from sklearn.metrics import mean_squared_error, mean_absolute_error, r2_score\n",
    "from sklearn.model_selection import train_test_split"
   ]
  },
  {
   "cell_type": "markdown",
   "metadata": {},
   "source": [
    "## Importing the data set"
   ]
  },
  {
   "cell_type": "markdown",
   "metadata": {},
   "source": [
    "This data set is composed of records of money (in k€) invested in TV, radio and newspaper ads for specific products and the corresponding sales (in m$)."
   ]
  },
  {
   "cell_type": "code",
   "execution_count": 2,
   "metadata": {
    "ExecuteTime": {
     "end_time": "2022-04-12T10:14:58.641131Z",
     "start_time": "2022-04-12T10:14:58.619626Z"
    }
   },
   "outputs": [
    {
     "data": {
      "text/html": [
       "<div>\n",
       "<style scoped>\n",
       "    .dataframe tbody tr th:only-of-type {\n",
       "        vertical-align: middle;\n",
       "    }\n",
       "\n",
       "    .dataframe tbody tr th {\n",
       "        vertical-align: top;\n",
       "    }\n",
       "\n",
       "    .dataframe thead th {\n",
       "        text-align: right;\n",
       "    }\n",
       "</style>\n",
       "<table border=\"1\" class=\"dataframe\">\n",
       "  <thead>\n",
       "    <tr style=\"text-align: right;\">\n",
       "      <th></th>\n",
       "      <th>TV</th>\n",
       "      <th>radio</th>\n",
       "      <th>newspaper</th>\n",
       "      <th>sales</th>\n",
       "    </tr>\n",
       "  </thead>\n",
       "  <tbody>\n",
       "    <tr>\n",
       "      <th>1</th>\n",
       "      <td>230.1</td>\n",
       "      <td>37.8</td>\n",
       "      <td>69.2</td>\n",
       "      <td>22.1</td>\n",
       "    </tr>\n",
       "    <tr>\n",
       "      <th>2</th>\n",
       "      <td>44.5</td>\n",
       "      <td>39.3</td>\n",
       "      <td>45.1</td>\n",
       "      <td>10.4</td>\n",
       "    </tr>\n",
       "    <tr>\n",
       "      <th>3</th>\n",
       "      <td>17.2</td>\n",
       "      <td>45.9</td>\n",
       "      <td>69.3</td>\n",
       "      <td>9.3</td>\n",
       "    </tr>\n",
       "    <tr>\n",
       "      <th>4</th>\n",
       "      <td>151.5</td>\n",
       "      <td>41.3</td>\n",
       "      <td>58.5</td>\n",
       "      <td>18.5</td>\n",
       "    </tr>\n",
       "    <tr>\n",
       "      <th>5</th>\n",
       "      <td>180.8</td>\n",
       "      <td>10.8</td>\n",
       "      <td>58.4</td>\n",
       "      <td>12.9</td>\n",
       "    </tr>\n",
       "  </tbody>\n",
       "</table>\n",
       "</div>"
      ],
      "text/plain": [
       "      TV  radio  newspaper  sales\n",
       "1  230.1   37.8       69.2   22.1\n",
       "2   44.5   39.3       45.1   10.4\n",
       "3   17.2   45.9       69.3    9.3\n",
       "4  151.5   41.3       58.5   18.5\n",
       "5  180.8   10.8       58.4   12.9"
      ]
     },
     "execution_count": 2,
     "metadata": {},
     "output_type": "execute_result"
    }
   ],
   "source": [
    "data = pd.read_csv(\"Advertising.csv\", index_col=0)\n",
    "data.head()"
   ]
  },
  {
   "cell_type": "markdown",
   "metadata": {},
   "source": [
    "# Part 1: Hands-On Multiple Linear Regression"
   ]
  },
  {
   "cell_type": "markdown",
   "metadata": {},
   "source": [
    "### Data preparation\n",
    "We have already isolated the X and the y variables:  \n",
    "- 'sales' is your target variable.  \n",
    "- For now we will use 'TV' and 'radio' as features  \n",
    "\n",
    "No need for a train-test split for now."
   ]
  },
  {
   "cell_type": "code",
   "execution_count": 3,
   "metadata": {
    "ExecuteTime": {
     "end_time": "2022-04-12T10:14:59.210025Z",
     "start_time": "2022-04-12T10:14:59.207327Z"
    }
   },
   "outputs": [],
   "source": [
    "X = data[['TV', 'radio']].values\n",
    "y = data['sales'].values.reshape(-1,1)"
   ]
  },
  {
   "cell_type": "markdown",
   "metadata": {},
   "source": [
    "### Upgrade the MyLinearRegression class \n",
    "Complete the following class to implement multiple linear regression."
   ]
  },
  {
   "cell_type": "code",
   "execution_count": null,
   "metadata": {},
   "outputs": [],
   "source": [
    "class MyLinearRegression:\n",
    "    def __init__(self):\n",
    "        self.beta: Optional[np.ndarray] = None\n",
    "    \n",
    "    def set_beta(self, beta: np.ndarray):\n",
    "        self.beta = beta\n",
    "    \n",
    "    def predict(self, X: np.ndarray) -> np.ndarray:\n",
    "        # YOUR CODE HERE\n",
    "        ..."
   ]
  },
  {
   "cell_type": "code",
   "execution_count": null,
   "metadata": {},
   "outputs": [],
   "source": [
    "test_regr = MyLinearRegression()\n",
    "test_regr.set_beta(np.ones(3))\n",
    "predictions = test_regr.predict(X)\n",
    "\n",
    "assert X.shape[1] == 2, \"❌ Your X_train matrix should have 2 columns\"\n",
    "assert y.shape == (200,1), \"❌ Your y vector has the wrong shape.\"\n",
    "assert isinstance(predictions, np.ndarray), \"❌ Your regressor should return a numpy array.\"\n",
    "assert predictions.shape in [y.shape, (200,)], \"❌ Your array of predictions should have the same shape as y.\"\n",
    "assert math.isclose(predictions[0], X[0,:].sum() + 1), \"❌ Your calculations within the predict() method aren't quite right.\"\n",
    "print(\"👌 Seems good.\")"
   ]
  },
  {
   "cell_type": "markdown",
   "metadata": {},
   "source": [
    "### Visualize multiple regression "
   ]
  },
  {
   "cell_type": "markdown",
   "metadata": {},
   "source": [
    "#### Choose beta values at random and visualize your model in 3d\n",
    "- Beta_0\n",
    "- Beta_1 for TV advertisement\n",
    "- Beta_2 for Radio advertisement"
   ]
  },
  {
   "cell_type": "code",
   "execution_count": null,
   "metadata": {},
   "outputs": [],
   "source": [
    "beta = np.array([\n",
    "    ## YOUR VALUES HERE\n",
    "   \n",
    "])\n",
    "\n",
    "my_linear_regression = MyLinearRegression()\n",
    "my_linear_regression.set_beta(beta)\n",
    "assert len(beta) == 3, \"You should have 3 parameters\""
   ]
  },
  {
   "cell_type": "code",
   "execution_count": null,
   "metadata": {},
   "outputs": [],
   "source": [
    "# Use this function to visualize your regression in 3d\n",
    "\n",
    "def visualize_3d(regression_model):\n",
    "    def create_mesh(beta):\n",
    "        x_values = np.linspace(0, 300, 50).reshape(-1,1)\n",
    "        y_values = np.linspace(0, 50, 50).reshape(-1,1)\n",
    "        x_mesh, y_mesh = np.meshgrid(x_values, y_values)\n",
    "        z_mesh = beta[0] + beta[1] * x_mesh + beta[2] * y_mesh\n",
    "        return x_mesh, y_mesh, z_mesh\n",
    "    \n",
    "    if isinstance(regression_model, LinearRegression):\n",
    "        beta = np.hstack([regression_model.intercept_, regression_model.coef_.squeeze()])\n",
    "    else:\n",
    "        beta = regression_model.beta\n",
    "        \n",
    "    x_mesh, y_mesh, z_mesh = create_mesh(beta)\n",
    "    \n",
    "    fig = plt.figure(figsize=(10,7))\n",
    "    ax = plt.axes(projection=\"3d\")\n",
    "    \n",
    "    ax.scatter3D(data['TV'], data['radio'], data['sales'].squeeze())\n",
    "    ax.plot_wireframe(x_mesh, y_mesh, z_mesh, rstride=5, cstride=5, alpha=0.4, color='g')\n",
    "    \n",
    "    ax.set_xlabel('TV (beta1)')\n",
    "    ax.set_ylabel('Radio (beta2)')\n",
    "    ax.set_zlabel('Sales')\n",
    "    plt.tight_layout()\n",
    "    plt.show()\n",
    "    \n",
    "visualize_3d(my_linear_regression)"
   ]
  },
  {
   "cell_type": "markdown",
   "metadata": {},
   "source": [
    "### Train a linear regression model with Scikit-learn, visualize it and retrieve its learned parameters. "
   ]
  },
  {
   "cell_type": "code",
   "execution_count": null,
   "metadata": {},
   "outputs": [],
   "source": []
  },
  {
   "cell_type": "markdown",
   "metadata": {},
   "source": [
    "# Part 2: Hands-on  polynomial regression \n",
    "Here we will focus on one feature, 'TV', but we will create polynomial features from it."
   ]
  },
  {
   "cell_type": "markdown",
   "metadata": {},
   "source": [
    "### Data Preparation "
   ]
  },
  {
   "cell_type": "code",
   "execution_count": null,
   "metadata": {},
   "outputs": [],
   "source": [
    "X_poly = data[['TV']]\n",
    "y_poly = data['sales']\n",
    "X_train_poly, X_val_poly, y_train_poly, y_val_poly = train_test_split(X_poly, y_poly, test_size = 0.25, random_state = 0)"
   ]
  },
  {
   "cell_type": "markdown",
   "metadata": {},
   "source": [
    "### Create a pipeline to combine the following elements\n",
    "To make our code much cleaner and easier to follow, we will pack all our transformers, along with our regressor, into a pipeline. See the [documentation](https://scikit-learn.org/stable/modules/generated/sklearn.pipeline.Pipeline.html)\n",
    "- PolynomialFeatures of degree 8\n",
    "- A StandardScaler (Can you tell why this is necessary?)\n",
    "- A LinearRegression model (Sklearn)"
   ]
  },
  {
   "cell_type": "code",
   "execution_count": null,
   "metadata": {},
   "outputs": [],
   "source": [
    "polynomial_regression_pipeline = Pipeline([\n",
    "    # YOUR CODE HERE\n",
    "  \n",
    "])"
   ]
  },
  {
   "cell_type": "markdown",
   "metadata": {},
   "source": [
    "### Fit your pipeline on the poly training set and retrieve the coefficients of your LinearRegression\n",
    "Hint: you can access the regressor by calling `.named_steps['name_of_the_regressor']` on your pipeline."
   ]
  },
  {
   "cell_type": "code",
   "execution_count": null,
   "metadata": {},
   "outputs": [],
   "source": []
  },
  {
   "cell_type": "code",
   "execution_count": null,
   "metadata": {},
   "outputs": [],
   "source": []
  },
  {
   "cell_type": "markdown",
   "metadata": {},
   "source": [
    "#### Play with the degree of the polynomial features and see what happens to the size of the coefficients."
   ]
  },
  {
   "cell_type": "code",
   "execution_count": null,
   "metadata": {},
   "outputs": [],
   "source": []
  },
  {
   "cell_type": "markdown",
   "metadata": {},
   "source": [
    "###  Visualize your polynomial regression model\n",
    "Use the function defined for you below."
   ]
  },
  {
   "cell_type": "code",
   "execution_count": null,
   "metadata": {},
   "outputs": [],
   "source": [
    "def visualize_polynomial(polynomial_regression_pipeline):\n",
    "    X_plot = pd.DataFrame({'TV': np.arange(min(data['TV']),max(data['TV']),1)})\n",
    "    y_poly_plot = polynomial_regression_pipeline.predict(X_plot)\n",
    "\n",
    "    plt.figure(figsize=(16, 8))\n",
    "    plt.scatter(X_train_poly, y_train_poly, c='lightgray')\n",
    "    plt.scatter(X_val_poly, y_val_poly, c='black')\n",
    "    plt.plot(X_plot, y_poly_plot, c='blue', linewidth=2, label='polynomial')\n",
    "\n",
    "    plt.xlabel(\"Money spent on TV ads ($)\")\n",
    "    plt.ylabel(\"Sales ($)\")\n",
    "    plt.legend()\n",
    "    plt.show()\n",
    "\n",
    "visualize_polynomial(polynomial_regression_pipeline)"
   ]
  },
  {
   "cell_type": "markdown",
   "metadata": {},
   "source": [
    "#### Play with the degree of the polynomial features and see what happens to the curve"
   ]
  },
  {
   "cell_type": "code",
   "execution_count": null,
   "metadata": {},
   "outputs": [],
   "source": []
  },
  {
   "cell_type": "markdown",
   "metadata": {},
   "source": [
    "# Part 3: Assignment \n",
    "## Data Exploration"
   ]
  },
  {
   "cell_type": "markdown",
   "metadata": {},
   "source": [
    "### a) Compute the correlation matrix"
   ]
  },
  {
   "cell_type": "code",
   "execution_count": null,
   "metadata": {
    "ExecuteTime": {
     "end_time": "2022-04-12T10:14:58.651492Z",
     "start_time": "2022-04-12T10:14:58.643343Z"
    }
   },
   "outputs": [],
   "source": []
  },
  {
   "cell_type": "markdown",
   "metadata": {},
   "source": [
    "### b) Plot the sales as a function of the variable that is the most correlated with them"
   ]
  },
  {
   "cell_type": "code",
   "execution_count": null,
   "metadata": {
    "ExecuteTime": {
     "end_time": "2022-04-12T10:14:58.956941Z",
     "start_time": "2022-04-12T10:14:58.827104Z"
    }
   },
   "outputs": [],
   "source": []
  },
  {
   "cell_type": "markdown",
   "metadata": {},
   "source": [
    "### c) Plot the sales as a function of the variable that is the LEAST correlated"
   ]
  },
  {
   "cell_type": "code",
   "execution_count": null,
   "metadata": {
    "ExecuteTime": {
     "end_time": "2022-04-12T10:14:59.205095Z",
     "start_time": "2022-04-12T10:14:59.079639Z"
    }
   },
   "outputs": [],
   "source": []
  },
  {
   "cell_type": "markdown",
   "metadata": {},
   "source": [
    "## Evaluation\n",
    "Before we move further, you will create a function that you will reuse over and over to evaluate your models. It may look a little complex at first, but you will see later, when you compare multiple models, that it is very handy to pack your results in a tabular form.  \n",
    "\n",
    "Your function should:\n",
    "- Generate predictions with the model on the validation datset\n",
    "- Compute the following metrics: MSE, RMSE, MAE, R2 (you can use sklearn's implementation)\n",
    "- Pack the results in a dataframe, with each metric on a separate row, and the name of the metric should be the index of the row.\n",
    "- The results should appear in the same column, whose name describe the model variant you are evaluating."
   ]
  },
  {
   "cell_type": "code",
   "execution_count": null,
   "metadata": {
    "ExecuteTime": {
     "end_time": "2022-04-12T10:14:59.456872Z",
     "start_time": "2022-04-12T10:14:59.451206Z"
    }
   },
   "outputs": [],
   "source": [
    "def evaluate_regression(regressor, name, X_val, y_val):\n",
    "    # YOUR CODE HERE\n",
    "    ...\n",
    "\n",
    "evaluate_regression(polynomial_regression_pipeline, 'poly_regression', X_val_poly, y_val_poly)"
   ]
  },
  {
   "cell_type": "markdown",
   "metadata": {},
   "source": [
    "### Test your function: evaluate one of your previous models "
   ]
  },
  {
   "cell_type": "code",
   "execution_count": null,
   "metadata": {},
   "outputs": [],
   "source": []
  },
  {
   "cell_type": "markdown",
   "metadata": {},
   "source": [
    "## Crazily overfitting model\n",
    "We will now experiment how a very complex model can be regularized."
   ]
  },
  {
   "cell_type": "markdown",
   "metadata": {},
   "source": [
    "### Re-define your dataset in order to use all variables. \n",
    "Define the following variables:\n",
    "- X_train\n",
    "- y_train\n",
    "- X_val\n",
    "- y_val"
   ]
  },
  {
   "cell_type": "code",
   "execution_count": null,
   "metadata": {},
   "outputs": [],
   "source": []
  },
  {
   "cell_type": "markdown",
   "metadata": {},
   "source": [
    "### Train a linear regression model on all 3 features, with polynomial features of degree 15\n",
    "You should consider using a Pipeline as in the previous section."
   ]
  },
  {
   "cell_type": "code",
   "execution_count": null,
   "metadata": {},
   "outputs": [],
   "source": []
  },
  {
   "cell_type": "markdown",
   "metadata": {},
   "source": [
    "### Evaluate your overfitting model with your evaluation function "
   ]
  },
  {
   "cell_type": "code",
   "execution_count": null,
   "metadata": {},
   "outputs": [],
   "source": []
  },
  {
   "cell_type": "markdown",
   "metadata": {},
   "source": [
    "### Regularize your model: \n",
    "- Write a new version of your pipeline, but instead of using LinearRegression, use Ridge regression\n",
    "- evaluate your regularized model\n"
   ]
  },
  {
   "cell_type": "code",
   "execution_count": null,
   "metadata": {},
   "outputs": [],
   "source": []
  },
  {
   "cell_type": "markdown",
   "metadata": {},
   "source": [
    "### Tune your regularizer\n",
    "The Ridge regressor has an alpha hyperparameter [see documentation](https://scikit-learn.org/stable/modules/generated/sklearn.linear_model.Ridge.html). Already with the default setting, you were able to improve a lot your performance. Try adjusting the alpha hyperparameter to see if you can bring up the performance even more. Try out different values and keep the one that gives the best results."
   ]
  },
  {
   "cell_type": "code",
   "execution_count": null,
   "metadata": {},
   "outputs": [],
   "source": []
  }
 ],
 "metadata": {
  "kernelspec": {
   "display_name": "Python 3 (ipykernel)",
   "language": "python",
   "name": "python3"
  },
  "language_info": {
   "codemirror_mode": {
    "name": "ipython",
    "version": 3
   },
   "file_extension": ".py",
   "mimetype": "text/x-python",
   "name": "python",
   "nbconvert_exporter": "python",
   "pygments_lexer": "ipython3",
   "version": "3.10.9"
  }
 },
 "nbformat": 4,
 "nbformat_minor": 4
}
